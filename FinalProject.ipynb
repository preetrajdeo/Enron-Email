{
 "cells": [
  {
   "cell_type": "markdown",
   "metadata": {},
   "source": [
    "## Introduction\n",
    "In 2000, Enron was one of the largest companies in the United States. By 2002, it had collapsed into bankruptcy due to widespread corporate fraud. In the resulting Federal investigation, there was a significant amount of typically confidential information entered into public record, including tens of thousands of emails and detailed financial data for top executives. \n",
    "\n",
    "In this project my goal is to choose a combination of features from a variety of features pertaining to the former employees of Enron. I will then use an algorithm that helps me predict whether this person is a Person of Interest (POI) or not. This is a Supervised Classification problem because we are given the right answer i.e. whether the person is a POI or not. I'm going to try to get as many POIs right as possible. \n",
    "\n",
    "The dataset itself consists of email metadata and financial data for about 150 employees of Enron. \n",
    "       \n",
    "In this project I will be engineering the features, pick and tune an algorithm, test and evaluate my identifier. "
   ]
  },
  {
   "cell_type": "markdown",
   "metadata": {},
   "source": [
    "# Import Dataset"
   ]
  },
  {
   "cell_type": "code",
   "execution_count": 35,
   "metadata": {
    "collapsed": false
   },
   "outputs": [],
   "source": [
    "import sys\n",
    "import pickle\n",
    "sys.path.append(\"../tools/\")\n",
    "\n",
    "\n",
    "from feature_format import featureFormat\n",
    "from feature_format import targetFeatureSplit\n",
    "\n",
    "### features_list is a list of strings, each of which is a feature name\n",
    "### first feature must be \"poi\", as this will be singled out as the label\n",
    "features_list = [\"poi\"]\n",
    "\n",
    "### load the dictionary containing the dataset\n",
    "data_dict = pickle.load(open(\"final_project_dataset.pkl\", \"r\") )\n"
   ]
  },
  {
   "cell_type": "markdown",
   "metadata": {},
   "source": [
    "# Outliers. \n",
    "\n",
    "First I decide to plot Salary against Bonus and try to see what the scatter plot looks like. Below we can see that there's one observation that is clearly an outlier. Upon further combing through the data, I realize that that must be the observation 'Total'. "
   ]
  },
  {
   "cell_type": "code",
   "execution_count": 36,
   "metadata": {
    "collapsed": false
   },
   "outputs": [
    {
     "data": {
      "image/png": "[encoded data removed]",
      "text/plain": [
       "<matplotlib.figure.Figure at 0x1100f5b10>"
      ]
     },
     "metadata": {},
     "output_type": "display_data"
    }
   ],
   "source": [
    "%matplotlib inline\n",
    "import matplotlib.pyplot as plt\n",
    "features = [\"salary\", \"bonus\"]\n",
    "data = featureFormat(data_dict, features)\n",
    "for point in data:\n",
    "    salary = point[0]\n",
    "    bonus = point[1]\n",
    "    plt.scatter(salary, bonus)\n",
    "\n",
    "plt.xlabel(\"salary\")\n",
    "plt.ylabel(\"bonus\")\n",
    "plt.show()"
   ]
  },
  {
   "cell_type": "markdown",
   "metadata": {},
   "source": [
    "I removed the values 'Total and 'The Travel Agency In The Park' and plot Salary vs Bonus again. To me, they didn’t seem to be relevant observations. I also removed all the empty values (Nan’s) from the variable ‘Salary’."
   ]
  },
  {
   "cell_type": "code",
   "execution_count": 37,
   "metadata": {
    "collapsed": false
   },
   "outputs": [
    {
     "data": {
      "image/png": "[encoded data removed]",
      "text/plain": [
       "<matplotlib.figure.Figure at 0x10e121490>"
      ]
     },
     "metadata": {},
     "output_type": "display_data"
    }
   ],
   "source": [
    "outliers = [\"TOTAL\", 'The TRAVE AGENCY IN THE PARK']\n",
    "\n",
    "def remove_outliers(data):\n",
    "    outliers = ['TOTAL', 'THE TRAVEL AGENCY IN THE PARK']\n",
    "    for x in outliers:\n",
    "        data_dict.pop(x, 0)\n",
    "\n",
    "    return data\n",
    "remove_outliers(data_dict)\n",
    "\n",
    "data = featureFormat(data_dict, features)\n",
    "for point in data:\n",
    "    salary = point[0]\n",
    "    bonus = point[1]\n",
    "    plt.scatter(salary, bonus)\n",
    "\n",
    "plt.xlabel(\"salary\")\n",
    "plt.ylabel(\"bonus\")\n",
    "plt.show()\n",
    "### remove NAN's from dataset\n",
    "outliers = []\n",
    "for key in data_dict:\n",
    "    val = data_dict[key]['salary']\n",
    "    if val == 'NaN':\n",
    "        continue\n",
    "    outliers.append((key, int(val)))\n"
   ]
  },
  {
   "cell_type": "markdown",
   "metadata": {
    "collapsed": false
   },
   "source": [
    "# Create New Features\n",
    "\n",
    "I made two new features and they are both fractions:\n",
    "\n",
    "* Fraction_from_poi_email: This is a fraction of all the messages a POI sent to this person over all the messages that the POI sent. \n",
    "\n",
    "* Fraction_to_poi_email: This is a fraction of all the messages a POI received from this person over all the messages received. \n",
    "\n",
    "My hypothesis here was that I thought POIs would send and receive messages to and from other POIs more often than send and receive messages to and from other people in the company and outside of it. \n"
   ]
  },
  {
   "cell_type": "code",
   "execution_count": 38,
   "metadata": {
    "collapsed": false
   },
   "outputs": [],
   "source": [
    "### create new features\n",
    "### new features are: fraction_to_poi_email,fraction_from_poi_email\n",
    "\n",
    "def dict_to_list(var1,var2):\n",
    "    new_list=[]\n",
    "\n",
    "    for i in data_dict:\n",
    "        if data_dict[i][var1]==\"NaN\" or data_dict[i][var2]==\"NaN\":\n",
    "            new_list.append(0.)\n",
    "        elif data_dict[i][var1]>=0:\n",
    "            new_list.append(float(data_dict[i][var1])/float(data_dict[i][var2]))\n",
    "    return new_list\n",
    "\n",
    "### create two lists of new features\n",
    "fraction_from_poi_email=dict_to_list(\"from_poi_to_this_person\",\"to_messages\")\n",
    "fraction_to_poi_email=dict_to_list(\"from_this_person_to_poi\",\"from_messages\")\n",
    "\n",
    "### Now its time to insert those features in data_dict\n",
    "counter = 0\n",
    "for i in data_dict:\n",
    "    data_dict[i][\"fraction_from_poi_email\"] = fraction_from_poi_email[counter]\n",
    "    data_dict[i][\"fraction_to_poi_email\"]=fraction_to_poi_email[counter]\n",
    "    counter +=1\n",
    "\n",
    "#Now I add my two new features to my list of variables. \n",
    "    \n",
    "features_list = [\"poi\", \"fraction_from_poi_email\", \"fraction_to_poi_email\"] \n",
    "\n",
    "### store to my_dataset for easy export below\n",
    "my_dataset = data_dict"
   ]
  },
  {
   "cell_type": "markdown",
   "metadata": {},
   "source": [
    "# Algorithm #1\n",
    "\n",
    "I decide to use Naive Bayes."
   ]
  },
  {
   "cell_type": "code",
   "execution_count": 39,
   "metadata": {
    "collapsed": false
   },
   "outputs": [
    {
     "name": "stdout",
     "output_type": "stream",
     "text": [
      "Accuracy: 0.266666666667\n",
      "Precision: 0.181818181818\n",
      "Recall: 0.5\n"
     ]
    }
   ],
   "source": [
    "from sklearn.metrics import precision_score\n",
    "from sklearn.metrics import recall_score\n",
    "##Let's make a separate dataset to use in this decision tree so that we can use my_dataset unchanged \n",
    "##later on. \n",
    "features_list = [\"poi\", \"salary\", \"bonus\", \"fraction_from_poi_email\", \"fraction_to_poi_email\",\n",
    "                 'deferral_payments', 'total_payments', 'loan_advances', 'restricted_stock_deferred',\n",
    "                 'deferred_income', 'total_stock_value', 'expenses', 'exercised_stock_options',\n",
    "                 'long_term_incentive', 'shared_receipt_with_poi', 'restricted_stock', 'director_fees']\n",
    "\n",
    "data_nb = featureFormat(my_dataset, features_list)\n",
    "\n",
    "#Now its time to split the dataset into features and labels. The code below assumes that the \n",
    "#first variable is the label.\n",
    "\n",
    "labels, features = targetFeatureSplit(data_nb)\n",
    "\n",
    "#Let's split the dataset into training and testing data\n",
    "from sklearn import cross_validation\n",
    "features_train, features_test, labels_train, labels_test = cross_validation.train_test_split(\n",
    "    features,labels,test_size=0.1, random_state=42)\n",
    "\n",
    "#Now let's deploy the naive bayes algorithm and calculate the accuracy of it by using the testing set\n",
    "\n",
    "from sklearn.naive_bayes import GaussianNB\n",
    "clf = GaussianNB()\n",
    "clf.fit(features_train,labels_train)\n",
    "score = clf.score(features_test,labels_test)\n",
    "pred= clf.predict(features_test)\n",
    "print 'Accuracy:', score\n",
    "print 'Precision:', precision_score(labels_test, pred)  \n",
    "print 'Recall:', recall_score(labels_test, pred)\n",
    "\n",
    "\n"
   ]
  },
  {
   "cell_type": "markdown",
   "metadata": {
    "collapsed": true
   },
   "source": [
    "# Algorithm #2\n",
    "I then decide to deploy a Decision Tree to compare the results with the Naive Bayes algorithm.  \n"
   ]
  },
  {
   "cell_type": "code",
   "execution_count": 40,
   "metadata": {
    "collapsed": false
   },
   "outputs": [
    {
     "name": "stdout",
     "output_type": "stream",
     "text": [
      "Accuracy: 0.6\n",
      "Precision: 0.25\n",
      "Recall: 0.25\n"
     ]
    },
    {
     "data": {
      "text/html": [
       "<div>\n",
       "<table border=\"1\" class=\"dataframe\">\n",
       "  <thead>\n",
       "    <tr style=\"text-align: right;\">\n",
       "      <th></th>\n",
       "      <th>Features</th>\n",
       "      <th>Importances</th>\n",
       "    </tr>\n",
       "  </thead>\n",
       "  <tbody>\n",
       "    <tr>\n",
       "      <th>0</th>\n",
       "      <td>salary</td>\n",
       "      <td>0.000000</td>\n",
       "    </tr>\n",
       "    <tr>\n",
       "      <th>1</th>\n",
       "      <td>bonus</td>\n",
       "      <td>0.000000</td>\n",
       "    </tr>\n",
       "    <tr>\n",
       "      <th>2</th>\n",
       "      <td>fraction_from_poi_email</td>\n",
       "      <td>0.072180</td>\n",
       "    </tr>\n",
       "    <tr>\n",
       "      <th>3</th>\n",
       "      <td>fraction_to_poi_email</td>\n",
       "      <td>0.149133</td>\n",
       "    </tr>\n",
       "    <tr>\n",
       "      <th>4</th>\n",
       "      <td>deferral_payments</td>\n",
       "      <td>0.000000</td>\n",
       "    </tr>\n",
       "    <tr>\n",
       "      <th>5</th>\n",
       "      <td>total_payments</td>\n",
       "      <td>0.000000</td>\n",
       "    </tr>\n",
       "    <tr>\n",
       "      <th>6</th>\n",
       "      <td>loan_advances</td>\n",
       "      <td>0.000000</td>\n",
       "    </tr>\n",
       "    <tr>\n",
       "      <th>7</th>\n",
       "      <td>restricted_stock_deferred</td>\n",
       "      <td>0.000000</td>\n",
       "    </tr>\n",
       "    <tr>\n",
       "      <th>8</th>\n",
       "      <td>deferred_income</td>\n",
       "      <td>0.000000</td>\n",
       "    </tr>\n",
       "    <tr>\n",
       "      <th>9</th>\n",
       "      <td>total_stock_value</td>\n",
       "      <td>0.148962</td>\n",
       "    </tr>\n",
       "    <tr>\n",
       "      <th>10</th>\n",
       "      <td>expenses</td>\n",
       "      <td>0.212467</td>\n",
       "    </tr>\n",
       "    <tr>\n",
       "      <th>11</th>\n",
       "      <td>exercised_stock_options</td>\n",
       "      <td>0.121017</td>\n",
       "    </tr>\n",
       "    <tr>\n",
       "      <th>12</th>\n",
       "      <td>long_term_incentive</td>\n",
       "      <td>0.000000</td>\n",
       "    </tr>\n",
       "    <tr>\n",
       "      <th>13</th>\n",
       "      <td>shared_receipt_with_poi</td>\n",
       "      <td>0.258647</td>\n",
       "    </tr>\n",
       "    <tr>\n",
       "      <th>14</th>\n",
       "      <td>restricted_stock</td>\n",
       "      <td>0.037594</td>\n",
       "    </tr>\n",
       "    <tr>\n",
       "      <th>15</th>\n",
       "      <td>director_fees</td>\n",
       "      <td>0.000000</td>\n",
       "    </tr>\n",
       "  </tbody>\n",
       "</table>\n",
       "</div>"
      ],
      "text/plain": [
       "                     Features  Importances\n",
       "0                      salary     0.000000\n",
       "1                       bonus     0.000000\n",
       "2     fraction_from_poi_email     0.072180\n",
       "3       fraction_to_poi_email     0.149133\n",
       "4           deferral_payments     0.000000\n",
       "5              total_payments     0.000000\n",
       "6               loan_advances     0.000000\n",
       "7   restricted_stock_deferred     0.000000\n",
       "8             deferred_income     0.000000\n",
       "9           total_stock_value     0.148962\n",
       "10                   expenses     0.212467\n",
       "11    exercised_stock_options     0.121017\n",
       "12        long_term_incentive     0.000000\n",
       "13    shared_receipt_with_poi     0.258647\n",
       "14           restricted_stock     0.037594\n",
       "15              director_fees     0.000000"
      ]
     },
     "execution_count": 40,
     "metadata": {},
     "output_type": "execute_result"
    }
   ],
   "source": [
    "from sklearn.metrics import precision_score\n",
    "from sklearn.metrics import recall_score\n",
    "##Let's make a separate dataset to use in this decision tree so that we can use my_dataset unchanged \n",
    "##later on. \n",
    "features_list = [\"poi\", \"salary\", \"bonus\", \"fraction_from_poi_email\", \"fraction_to_poi_email\",\n",
    "                 'deferral_payments', 'total_payments', 'loan_advances', 'restricted_stock_deferred',\n",
    "                 'deferred_income', 'total_stock_value', 'expenses', 'exercised_stock_options',\n",
    "                 'long_term_incentive', 'shared_receipt_with_poi', 'restricted_stock', 'director_fees']\n",
    "\n",
    "data_dt = featureFormat(my_dataset, features_list)\n",
    "\n",
    "#Now its time to split the dataset into features and labels. The code below assumes that the \n",
    "#first variable is the label.\n",
    "\n",
    "labels, features = targetFeatureSplit(data_dt)\n",
    "\n",
    "#Let's split the dataset into training and testing data\n",
    "from sklearn import cross_validation\n",
    "features_train, features_test, labels_train, labels_test = cross_validation.train_test_split(\n",
    "    features,labels,test_size=0.1, random_state=42)\n",
    "\n",
    "#Now let's deploy the decision tree and calculate the accuracy of it by using the testing set\n",
    "\n",
    "from sklearn.tree import DecisionTreeClassifier\n",
    "clf = DecisionTreeClassifier()\n",
    "clf.fit(features_train,labels_train)\n",
    "score = clf.score(features_test,labels_test)\n",
    "pred= clf.predict(features_test)\n",
    "print 'Accuracy:', score\n",
    "print 'Precision:', precision_score(labels_test, pred)  \n",
    "print 'Recall:', recall_score(labels_test, pred)\n",
    "\n",
    "importances = clf.feature_importances_\n",
    "\n",
    "\n",
    "\n",
    "import pandas as pd\n",
    "\n",
    "data_imp = pd.DataFrame(\n",
    "    {'Features': features_list[1:], \n",
    "     'Importances': importances})\n",
    "data_imp\n",
    "\n"
   ]
  },
  {
   "cell_type": "markdown",
   "metadata": {},
   "source": [
    "# Choosing The Algorithm\n",
    "\n",
    "I decide to go with the Decision Tree instead of Naive Bayes because the Accuracy and Precision for Decision Tree is higher than Nive Bayes. Recall is a little lower than Naive Bayes but I can tune the algorithm to be able to achieve a higher Recall. "
   ]
  },
  {
   "cell_type": "markdown",
   "metadata": {},
   "source": [
    "# Feature Selection\n",
    "\n",
    "The three features that I end up using are ‘fraction_to_poi_email’, ‘expenses’, and ‘shared_receipt_with_poi’. I tried a combination of features to see which combination of features would give me the highest precision and recall possible in the decision tree I deploy. \n",
    "\n",
    "I did not have to do any scaling because I was using  a Decision Tree and Decision Trees don’t require scaling usually. \n",
    "\n",
    "Feature Importances for the Variables I used: \n",
    "\n",
    "| Features                | Importances|   \n",
    "|-------------------------|------------|\n",
    "| fraction_to_poi_email   | 0.232919   |   \n",
    "| expenses                | 0.063768   | \n",
    "| shared_receipt_with_poi | 0.255057   |  "
   ]
  },
  {
   "cell_type": "code",
   "execution_count": 41,
   "metadata": {
    "collapsed": false
   },
   "outputs": [
    {
     "name": "stdout",
     "output_type": "stream",
     "text": [
      "Accuracy, Precision and Recall before tuning the algorithm:\n",
      "Accuracy: 0.75\n",
      "Precision: 0.5\n",
      "Recall: 0.666666666667\n"
     ]
    }
   ],
   "source": [
    "##According to these results I pick the following features. \n",
    "features_list_rev = ['poi', 'fraction_to_poi_email',\n",
    "                     'expenses', 'shared_receipt_with_poi']\n",
    "##Now I deply the decision tree again for the new features. \n",
    "data_dt_rev = featureFormat(data_dict, features_list_rev)\n",
    "\n",
    "#Now its time to split the dataset into features and labels. The code below assumes that the first variable is the \n",
    "#label.\n",
    "\n",
    "labels, features = targetFeatureSplit(data_dt_rev)\n",
    "\n",
    "#Let's split the dataset into training and testing data\n",
    "from sklearn import cross_validation\n",
    "features_train, features_test, labels_train, labels_test = cross_validation.train_test_split(\n",
    "    features, labels, test_size=0.1, random_state=42)\n",
    "\n",
    "\n",
    "#Now let's deploy the decision tree and calculate the accuracy, precision and recall before \n",
    "#tuning the algorithm\n",
    "\n",
    "\n",
    "from sklearn.tree import DecisionTreeClassifier\n",
    "clf = DecisionTreeClassifier()\n",
    "clf.fit(features_train,labels_train)\n",
    "score = clf.score(features_test,labels_test)\n",
    "pred= clf.predict(features_test)\n",
    "print 'Accuracy, Precision and Recall before tuning the algorithm:'\n",
    "print 'Accuracy:', score\n",
    "from sklearn.metrics import precision_score, recall_score\n",
    "print 'Precision:', precision_score(labels_test, pred)  \n",
    "print 'Recall:', recall_score(labels_test, pred)\n",
    "\n",
    "\n"
   ]
  },
  {
   "cell_type": "markdown",
   "metadata": {},
   "source": [
    "# Tuning An Algorithm\n",
    "\n",
    "Algorithms have parameters and tuning an algorithm means specifying those parameters instead of using the default values. When you tune an algorithm appropriately, you can customize it to your dataset and increase accuracy, recall and precision. If you don’t tune an algorithm then your model will not be optimized for your dataset. \n",
    "\n",
    "We have already deployed the algorithm without tuning it. Now let's deploy the decision tree and calculate the accuracy, precision and recall after tuning it. A min_samples_split = 6 or higher gives the best precision and recall.\n",
    "\n",
    "As we can see, the accuracy jumps to 91% and we can see an increase in precision and recall as well after we tune the algorithm. \n",
    "\n",
    "I have used the parameter min_samples_split, which is the minimum number of samples required to split an internal node."
   ]
  },
  {
   "cell_type": "code",
   "execution_count": 42,
   "metadata": {
    "collapsed": false
   },
   "outputs": [
    {
     "name": "stdout",
     "output_type": "stream",
     "text": [
      "Accuracy, Precision and Recall after tuning the algorithm with min_samples_split = 2:\n",
      "Accuracy: 0.75\n",
      "Precision: 0.5\n",
      "Recall: 0.666666666667\n",
      "Accuracy, Precision and Recall after tuning the algorithm with min_samples_split = 6:\n",
      "Accuracy: 0.916666666667\n",
      "Precision: 1.0\n",
      "Recall: 0.666666666667\n",
      "Accuracy, Precision and Recall after tuning the algorithm with min_samples_split = 11:\n",
      "Accuracy: 0.916666666667\n",
      "Precision: 1.0\n",
      "Recall: 0.666666666667\n"
     ]
    }
   ],
   "source": [
    "clf = DecisionTreeClassifier(min_samples_split = 2)\n",
    "clf.fit(features_train,labels_train)\n",
    "score = clf.score(features_test,labels_test)\n",
    "pred= clf.predict(features_test)\n",
    "print 'Accuracy, Precision and Recall after tuning the algorithm with min_samples_split = 2:'\n",
    "print 'Accuracy:', score\n",
    "print 'Precision:', precision_score(labels_test, pred)  \n",
    "print 'Recall:', recall_score(labels_test, pred)\n",
    "\n",
    "clf = DecisionTreeClassifier(min_samples_split = 6)\n",
    "clf.fit(features_train,labels_train)\n",
    "score = clf.score(features_test,labels_test)\n",
    "pred= clf.predict(features_test)\n",
    "print 'Accuracy, Precision and Recall after tuning the algorithm with min_samples_split = 6:'\n",
    "print 'Accuracy:', score\n",
    "print 'Precision:', precision_score(labels_test, pred)  \n",
    "print 'Recall:', recall_score(labels_test, pred)\n",
    "\n",
    "clf = DecisionTreeClassifier(min_samples_split = 11)\n",
    "clf.fit(features_train,labels_train)\n",
    "score = clf.score(features_test,labels_test)\n",
    "pred= clf.predict(features_test)\n",
    "print 'Accuracy, Precision and Recall after tuning the algorithm with min_samples_split = 11:'\n",
    "print 'Accuracy:', score\n",
    "print 'Precision:', precision_score(labels_test, pred)  \n",
    "print 'Recall:', recall_score(labels_test, pred)"
   ]
  },
  {
   "cell_type": "markdown",
   "metadata": {},
   "source": [
    "# Validation Of The Model\n",
    "\n",
    "Validation is a technique to evaluate predictive models by partitioning the original sample into a training set to train the model, and a test set to evaluate it. \n",
    "\n",
    "\n",
    "# Evaluation Metrics \n",
    "\n",
    "In this project, I have used Accuracy, Precision and Recall to validate my models. \n",
    "\n",
    "When you build a model for a classification problem you almost always want to look at the accuracy of that model as the number of correct predictions from all predictions made. This is the classification accuracy.\n",
    "\n",
    "In this project, our main goal is to identify POIs so False Negatives i.e. not recognizing someone as a POI when someone is actually a POI is more harmful than False Positives i.e. recognizing someone as a POI when someone is actually not a POI. \n",
    "\n",
    "Hence, while accuracy is important it can also be misleading because even with a high accuracy, the number of False Negatives that the model can predict can be high. We need a high Recall along with Accuracy. \n",
    "\n",
    "Recall is the number of True Positives divided by the number of True Positives and the number of False Negatives. A low Recall value indicates many False Negatives. \n",
    "\n",
    "In our model, we have a Recall of 0.67 which tells us that 67% of the time the model is correct in flagging the POIs whereas 33% of the time it identifies employers as POIs when they are not POIs. \n",
    "\n",
    "We can see an improvement in Recall after tuning the algorithm. "
   ]
  },
  {
   "cell_type": "markdown",
   "metadata": {},
   "source": [
    "#### Dump your classifier, dataset and features list so that anyone can run it and check your result. "
   ]
  },
  {
   "cell_type": "code",
   "execution_count": 43,
   "metadata": {
    "collapsed": true
   },
   "outputs": [],
   "source": [
    "pickle.dump(clf, open(\"my_classifier.pkl\", \"w\") )\n",
    "pickle.dump(data_dict, open(\"my_dataset.pkl\", \"w\") )\n",
    "pickle.dump(features_list, open(\"my_feature_list.pkl\", \"w\") )\n"
   ]
  },
  {
   "cell_type": "markdown",
   "metadata": {},
   "source": [
    "# Conclusion\n",
    "In this project, since we are trying to identify the Person of Interest(POI), we can say that according to the decision tree algorithm, we can say that 100% of the time that our algorithm identified a POI it really was a POI because our precision is 0.1 and 0% of the time if it flagged a person as POI, then it was a false alarm. \n",
    "\n",
    "Recall tells us that our algorithm is 67% of the time correct in flagging the POI while the other 33% of the time it was showing us a false negative which means that it would not recognize a person as a POI while he/she actually was. \n",
    "\n",
    "While our numbers seem to be reasonable, there is obviously room for improvement. We can keep looking into the text of the data and see if we can garner any more information from there. "
   ]
  },
  {
   "cell_type": "markdown",
   "metadata": {},
   "source": [
    "# References:\n",
    "\n",
    "https://en.wikipedia.org/wiki/Cross-validation_(statistics)\n",
    "http://scikit-learn.org/stable/modules/generated/sklearn.tree.DecisionTreeClassifier.html\n",
    "https://www.google.com/webhp?sourceid=chrome-instant&ion=1&espv=2&ie=UTF-8#q=sklearn+naive+bayes\n",
    "http://stackoverflow.com/questions/11277432/how-to-remove-a-key-from-a-python-dictionary\n",
    "http://machinelearningmastery.com/classification-accuracy-is-not-enough-more-performance-measures-you-can-use/"
   ]
  }
 ],
 "metadata": {
  "kernelspec": {
   "display_name": "Python 2",
   "language": "python",
   "name": "python2"
  },
  "language_info": {
   "codemirror_mode": {
    "name": "ipython",
    "version": 2
   },
   "file_extension": ".py",
   "mimetype": "text/x-python",
   "name": "python",
   "nbconvert_exporter": "python",
   "pygments_lexer": "ipython2",
   "version": "2.7.12"
  }
 },
 "nbformat": 4,
 "nbformat_minor": 0
}
